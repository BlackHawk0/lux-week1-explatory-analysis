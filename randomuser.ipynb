{
 "cells": [
  {
   "cell_type": "code",
   "execution_count": 3,
   "metadata": {},
   "outputs": [],
   "source": [
    "# imports\n",
    "import requests\n",
    "import pandas as pd"
   ]
  },
  {
   "cell_type": "code",
   "execution_count": 4,
   "metadata": {},
   "outputs": [],
   "source": [
    "# make a GET request to the API\n",
    "response = requests.get('https://randomuser.me/api/?results=100&gender=male')\n",
    "\n",
    "# get the list of users from the JSON response\n",
    "users = response.json()['results']"
   ]
  },
  {
   "cell_type": "code",
   "execution_count": 5,
   "metadata": {},
   "outputs": [],
   "source": [
    "# create a DataFrame with the user data\n",
    "df = pd.DataFrame(users, columns=['name', 'email', 'location'])\n",
    "\n",
    "# extract the relevant fields from the name and location columns\n",
    "df['first_name'] = df['name'].apply(lambda x: x['first'])\n",
    "df['last_name'] = df['name'].apply(lambda x: x['last'])\n",
    "df['city'] = df['location'].apply(lambda x: x['city'])\n",
    "df['state'] = df['location'].apply(lambda x: x['state'])\n",
    "\n",
    "# drop the original name and location columns\n",
    "df = df.drop(['name', 'location'], axis=1)"
   ]
  },
  {
   "cell_type": "code",
   "execution_count": 7,
   "metadata": {},
   "outputs": [
    {
     "name": "stdout",
     "output_type": "stream",
     "text": [
      "|    | email                            | first_name   | last_name      | city                       | state                        |\n",
      "|---:|:---------------------------------|:-------------|:---------------|:---------------------------|:-----------------------------|\n",
      "|  0 | prospero.araujo@example.com      | Próspero     | Araújo         | São Lourenço da Mata       | Acre                         |\n",
      "|  1 | nicklas.christensen@example.com  | Nicklas      | Christensen    | Oure                       | Sjælland                     |\n",
      "|  2 | tomislav.cvejic@example.com      | Tomislav     | Cvejić         | Blace                      | Podunavlje                   |\n",
      "|  3 | isaac.leroy@example.com          | Isaac        | Leroy          | Lille                      | Drôme                        |\n",
      "|  4 | frank.kennedy@example.com        | Frank        | Kennedy        | Carrickmacross             | Meath                        |\n",
      "|  5 | anton.marttila@example.com       | Anton        | Marttila       | Porvoo                     | Pirkanmaa                    |\n",
      "|  6 | oliver.evans@example.com         | Oliver       | Evans          | New Plymouth               | Southland                    |\n",
      "|  7 | johan.nielsen@example.com        | Johan        | Nielsen        | København S                | Sjælland                     |\n",
      "|  8 | jordano.castro@example.com       | Jordano      | Castro         | Valinhos                   | Acre                         |\n",
      "|  9 | benjamin.rosas@example.com       | Benjamín     | Rosas          | Villa Jiménez              | Tamaulipas                   |\n",
      "| 10 | willie.graves@example.com        | Willie       | Graves         | Wagga Wagga                | Western Australia            |\n",
      "| 11 | finn.jackson@example.com         | Finn         | Jackson        | Palmerston North           | Waikato                      |\n",
      "| 12 | alex.crespo@example.com          | Alex         | Crespo         | Elche                      | Galicia                      |\n",
      "| 13 | van.andre@example.com            | Van          | Andre          | Silenen                    | Appenzell Ausserrhoden       |\n",
      "| 14 | ronith.patil@example.com         | Ronith       | Patil          | Malda                      | Kerala                       |\n",
      "| 15 | kaya.alniacik@example.com        | Kaya         | Alnıaçık       | Samsun                     | Karabük                      |\n",
      "| 16 | james.harris@example.com         | James        | Harris         | Campbellton                | Prince Edward Island         |\n",
      "| 17 | owen.davies@example.com          | Owen         | Davies         | Nenagh                     | Mayo                         |\n",
      "| 18 | ivo.heuer@example.com            | Ivo          | Heuer          | Dornstetten                | Nordrhein-Westfalen          |\n",
      "| 19 | ragnar.aagaard@example.com       | Ragnar       | Aagaard        | Tveteneåsen                | Hedmark                      |\n",
      "| 20 | alban.jean@example.com           | Alban        | Jean           | Villeurbanne               | Ain                          |\n",
      "| 21 | maher.gorter@example.com         | Maher        | Gorter         | Boesingheliede             | Overijssel                   |\n",
      "| 22 | antoine.carpentier@example.com   | Antoine      | Carpentier     | Nîmes                      | Calvados                     |\n",
      "| 23 | sondre.austrheim@example.com     | Sondre       | Austrheim      | Sysle                      | Trøndelag                    |\n",
      "| 24 | greg.prescott@example.com        | Greg         | Prescott       | Miramar                    | Kansas                       |\n",
      "| 25 | vili.novaes@example.com          | Vili         | Novaes         | São João de Meriti         | Pará                         |\n",
      "| 26 | benjamin.byrd@example.com        | Benjamin     | Byrd           | Coffs Harbour              | Australian Capital Territory |\n",
      "| 27 | theo.ryland@example.com          | Theo         | Ryland         | Bekkjarvik                 | Oslo                         |\n",
      "| 28 | nicholas.douglas@example.com     | Nicholas     | Douglas        | Chester                    | Tyne and Wear                |\n",
      "| 29 | ben.wade@example.com             | Ben          | Wade           | Dungarvan                  | Fingal                       |\n",
      "| 30 | arsh.qsmy@example.com            | آرش          | قاسمی          | رشت                        | البرز                        |\n",
      "| 31 | rafael.nordtveit@example.com     | Rafael       | Nordtveit      | Kylstad                    | Telemark                     |\n",
      "| 32 | torsten.bourgeois@example.com    | Torsten      | Bourgeois      | Rüti (Zh)                  | Schwyz                       |\n",
      "| 33 | emil.eskola@example.com          | Emil         | Eskola         | Lieksa                     | Åland                        |\n",
      "| 34 | mhmdaaly.hydry@example.com       | محمدعلی      | حیدری          | گرگان                      | مرکزی                        |\n",
      "| 35 | bratislav.kabachok@example.com   | Bratislav    | Kabachok       | Mena                       | Kirovogradska                |\n",
      "| 36 | rosil.cardoso@example.com        | Rosil        | Cardoso        | Diadema                    | Piauí                        |\n",
      "| 37 | abhimanyu.almeida@example.com    | Abhimanyu    | Almeida        | Gwalior                    | Sikkim                       |\n",
      "| 38 | darko.nad@example.com            | Darko        | Nađ            | Paraćin                    | Pirot                        |\n",
      "| 39 | imre.borgen@example.com          | Imre         | Borgen         | Vestnes                    | Sør-Trøndelag                |\n",
      "| 40 | abel.jakobsen@example.com        | Abel         | Jakobsen       | Rød                        | Troms - Romsa                |\n",
      "| 41 | carl.petersen@example.com        | Carl         | Petersen       | Øster Assels               | Nordjylland                  |\n",
      "| 42 | akseli.polon@example.com         | Akseli       | Polon          | Virrat                     | Central Ostrobothnia         |\n",
      "| 43 | khalid.sandsmark@example.com     | Khalid       | Sandsmark      | Beitostølen                | Trøndelag                    |\n",
      "| 44 | sergio.iglesias@example.com      | Sergio       | Iglesias       | Parla                      | Aragón                       |\n",
      "| 45 | naoufal.vandersommen@example.com | Naoufal      | Van der Sommen | Boschoord                  | Groningen                    |\n",
      "| 46 | lucas.belanger@example.com       | Lucas        | Bélanger       | Clinton                    | Manitoba                     |\n",
      "| 47 | marvin.smith@example.com         | Marvin       | Smith          | Bundaberg                  | Western Australia            |\n",
      "| 48 | olivier.campbell@example.com     | Olivier      | Campbell       | Chipman                    | Prince Edward Island         |\n",
      "| 49 | noah.rasmussen@example.com       | Noah         | Rasmussen      | Silkeboeg                  | Midtjylland                  |\n",
      "| 50 | othmar.eifler@example.com        | Othmar       | Eifler         | Baiersdorf                 | Sachsen                      |\n",
      "| 51 | matthew.otoole@example.com       | Matthew      | Otoole         | Malahide                   | Westmeath                    |\n",
      "| 52 | marlon.moura@example.com         | Márlon       | Moura          | Aparecida de Goiânia       | Goiás                        |\n",
      "| 53 | armando.wilson@example.com       | Armando      | Wilson         | Swansea                    | Fife                         |\n",
      "| 54 | robert.kelley@example.com        | Robert       | Kelley         | Darwin                     | South Australia              |\n",
      "| 55 | harry.nelson@example.com         | Harry        | Nelson         | Salisbury                  | South Glamorgan              |\n",
      "| 56 | nael.vidal@example.com           | Naël         | Vidal          | Aubervilliers              | Moselle                      |\n",
      "| 57 | lennox.krane@example.com         | Lennox       | Krane          | Viksjord                   | Nordland                     |\n",
      "| 58 | suraje.vieira@example.com        | Suraje       | Vieira         | São Mateus                 | Maranhão                     |\n",
      "| 59 | marcus.stephens@example.com      | Marcus       | Stephens       | Mildura                    | Australian Capital Territory |\n",
      "| 60 | onni.perko@example.com           | Onni         | Perko          | Taivassalo                 | Satakunta                    |\n",
      "| 61 | dharun.kouser@example.com        | Dharun       | Kouser         | Thoothukudi                | Chhattisgarh                 |\n",
      "| 62 | earl.hopkins@example.com         | Earl         | Hopkins        | Wollongong                 | Victoria                     |\n",
      "| 63 | requerino.vieira@example.com     | Requerino    | Vieira         | Valinhos                   | Roraima                      |\n",
      "| 64 | allen.mitchelle@example.com      | Allen        | Mitchelle      | Rockhampton                | Tasmania                     |\n",
      "| 65 | volker.morel@example.com         | Volker       | Morel          | Payerne                    | Thurgau                      |\n",
      "| 66 | julio.dean@example.com           | Julio        | Dean           | Kilcoole                   | South Dublin                 |\n",
      "| 67 | simon.christiansen@example.com   | Simon        | Christiansen   | Noerre Alslev              | Nordjylland                  |\n",
      "| 68 | dorofiy.sidor@example.com        | Dorofiy      | Sidor          | Zelenodolsk                | Sumska                       |\n",
      "| 69 | ritthy.rice@example.com          | Ritthy       | Rice           | Bristol                    | Isle of Wight                |\n",
      "| 70 | nedeljko.vujic@example.com       | Nedeljko     | Vujić          | Svrljig                    | Mačva                        |\n",
      "| 71 | chaitanya.bhardwaj@example.com   | Chaitanya    | Bhardwaj       | Nandyal                    | Sikkim                       |\n",
      "| 72 | carl.nielsen@example.com         | Carl         | Nielsen        | Assens                     | Midtjylland                  |\n",
      "| 73 | gordon.simpson@example.com       | Gordon       | Simpson        | Port Macquarie             | Australian Capital Territory |\n",
      "| 74 | albert.hansen@example.com        | Albert       | Hansen         | Saltum                     | Syddanmark                   |\n",
      "| 75 | simon.macdonald@example.com      | Simon        | Macdonald      | Sutton                     | Northwest Territories        |\n",
      "| 76 | logan.freeman@example.com        | Logan        | Freeman        | Leicester                  | Nottinghamshire              |\n",
      "| 77 | nepobor.chayka@example.com       | Nepobor      | Chayka         | Zhitomir                   | Donecka                      |\n",
      "| 78 | alex.santos@example.com          | Alex         | Santos         | Santander                  | Galicia                      |\n",
      "| 79 | same.dean@example.com            | Same         | Dean           | Toowoomba                  | Western Australia            |\n",
      "| 80 | sharief.yuksel@example.com       | Sharief      | Yüksel         | Westerhoven                | Zuid-Holland                 |\n",
      "| 81 | yazan.fjelde@example.com         | Yazan        | Fjelde         | Herre                      | Møre og Romsdal              |\n",
      "| 82 | amaury.olivier@example.com       | Amaury       | Olivier        | Fort-de-France             | Lot                          |\n",
      "| 83 | randall.harrison@example.com     | Randall      | Harrison       | Plymouth                   | Lincolnshire                 |\n",
      "| 84 | pablo.ceja@example.com           | Pablo        | Ceja           | La Purísima                | Jalisco                      |\n",
      "| 85 | arsh.sdr@example.com             | آرش          | صدر            | بندرعباس                   | بوشهر                        |\n",
      "| 86 | magne.lilleland@example.com      | Magne        | Lilleland      | Odda                       | Hordaland                    |\n",
      "| 87 | jon.murphy@example.com           | Jon          | Murphy         | Kinsealy-Drinan            | Westmeath                    |\n",
      "| 88 | albert.alvarez@example.com       | Albert       | Álvarez        | Alcalá de Henares          | La Rioja                     |\n",
      "| 89 | alexander.martin@example.com     | Alexander    | Martin         | Minto                      | Nova Scotia                  |\n",
      "| 90 | luukas.jarvinen@example.com      | Luukas       | Jarvinen       | Karkkila                   | Southern Ostrobothnia        |\n",
      "| 91 | aalyrd.mhmdkhn@example.com       | علیرضا       | محمدخان        | قزوین                      | آذربایجان شرقی               |\n",
      "| 92 | otto.fromme@example.com          | Otto         | Fromme         | Königsbrück                | Rheinland-Pfalz              |\n",
      "| 93 | hugo.castro@example.com          | Hugo         | Castro         | Las Palmas de Gran Canaria | Canarias                     |\n",
      "| 94 | miomir.jelacic@example.com       | Miomir       | Jelačić        | Pančevo                    | North Bačka                  |\n",
      "| 95 | corey.fernandez@example.com      | Corey        | Fernandez      | Newry                      | Rutland                      |\n",
      "| 96 | johnny.wilson@example.com        | Johnny       | Wilson         | Shepparton                 | Victoria                     |\n",
      "| 97 | hans-ulrich.marchand@example.com | Hans-Ulrich  | Marchand       | Peseux                     | Schaffhausen                 |\n",
      "| 98 | mads.christiansen@example.com    | Mads         | Christiansen   | Brøndby Strand             | Sjælland                     |\n",
      "| 99 | aapo.laurila@example.com         | Aapo         | Laurila        | Ylivieska                  | Ostrobothnia                 |\n"
     ]
    }
   ],
   "source": [
    "# display the top 100 male users\n",
    "print(df.to_markdown())"
   ]
  }
 ],
 "metadata": {
  "kernelspec": {
   "display_name": "Python 3",
   "language": "python",
   "name": "python3"
  },
  "language_info": {
   "codemirror_mode": {
    "name": "ipython",
    "version": 3
   },
   "file_extension": ".py",
   "mimetype": "text/x-python",
   "name": "python",
   "nbconvert_exporter": "python",
   "pygments_lexer": "ipython3",
   "version": "3.10.6"
  },
  "orig_nbformat": 4,
  "vscode": {
   "interpreter": {
    "hash": "916dbcbb3f70747c44a77c7bcd40155683ae19c65e1c03b4aa3499c5328201f1"
   }
  }
 },
 "nbformat": 4,
 "nbformat_minor": 2
}
